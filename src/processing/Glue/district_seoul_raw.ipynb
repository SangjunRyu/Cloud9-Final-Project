{
	"metadata": {
		"kernelspec": {
			"name": "glue_pyspark",
			"display_name": "Glue PySpark",
			"language": "python"
		},
		"language_info": {
			"name": "Python_Glue_Session",
			"mimetype": "text/x-python",
			"codemirror_mode": {
				"name": "python",
				"version": 3
			},
			"pygments_lexer": "python3",
			"file_extension": ".py"
		}
	},
	"nbformat_minor": 4,
	"nbformat": 4,
	"cells": [
		{
			"cell_type": "code",
			"source": "%idle_timeout 60\n%timeout 30\n%glue_version 5.0\n%worker_type G.1X\n%number_of_workers 5\n\nimport sys\nfrom awsglue.transforms import *\nfrom awsglue.utils import getResolvedOptions\nfrom pyspark.context import SparkContext\nfrom awsglue.context import GlueContext\nfrom awsglue.job import Job\nimport pyspark.sql.functions as f\n  \nsc = SparkContext.getOrCreate()\nglueContext = GlueContext(sc)\nspark = glueContext.spark_session\njob = Job(glueContext)",
			"metadata": {
				"trusted": true,
				"tags": []
			},
			"execution_count": 1,
			"outputs": [
				{
					"name": "stdout",
					"text": "Welcome to the Glue Interactive Sessions Kernel\nFor more information on available magic commands, please type %help in any new cell.\n\nPlease view our Getting Started page to access the most up-to-date information on the Interactive Sessions kernel: https://docs.aws.amazon.com/glue/latest/dg/interactive-sessions.html\nInstalled kernel version: 1.0.7 \nCurrent idle_timeout is None minutes.\nidle_timeout has been set to 60 minutes.\nCurrent timeout is None minutes.\ntimeout has been set to 30 minutes.\nSetting Glue version to: 5.0\nPrevious worker type: None\nSetting new worker type to: G.1X\nPrevious number of workers: None\nSetting new number of workers to: 5\nTrying to create a Glue session for the kernel.\nSession Type: glueetl\nWorker Type: G.1X\nNumber of Workers: 5\nIdle Timeout: 60\nTimeout: 30\nSession ID: 85042cf0-7ae7-4e34-bd4f-aadb337d4d04\nApplying the following default arguments:\n--glue_kernel_version 1.0.7\n--enable-glue-datacatalog true\nWaiting for session 85042cf0-7ae7-4e34-bd4f-aadb337d4d04 to get into ready status...\nSession 85042cf0-7ae7-4e34-bd4f-aadb337d4d04 has been created.\n\n",
					"output_type": "stream"
				}
			]
		},
		{
			"cell_type": "code",
			"source": "raw_bucket = 'cloud9-batch-raw'",
			"metadata": {
				"trusted": true,
				"tags": []
			},
			"execution_count": 2,
			"outputs": [
				{
					"name": "stdout",
					"text": "\n",
					"output_type": "stream"
				}
			]
		},
		{
			"cell_type": "code",
			"source": "# 데이터프레임 로드\ndf = spark.read \\\n    .option(\"header\", \"true\") \\\n    .option(\"encoding\", \"utf-8\") \\\n    .csv(f's3://{raw_bucket}/district_seoul/')\n\ndf.printSchema()\ndf.show(5, False)",
			"metadata": {
				"trusted": true,
				"tags": []
			},
			"execution_count": 3,
			"outputs": [
				{
					"name": "stdout",
					"text": "root\n |-- 지역구: string (nullable = true)\n |-- 읍면동: string (nullable = true)\n |-- 인구 (명): string (nullable = true)\n |-- 면적 (㎢): string (nullable = true)\n |-- 인구밀도 (명/㎢): string (nullable = true)\n |-- 연도: string (nullable = true)\n\n+------+-------+---------+---------+----------------+----+\n|지역구|읍면동 |인구 (명)|면적 (㎢)|인구밀도 (명/㎢)|연도|\n+------+-------+---------+---------+----------------+----+\n|강남구|개포1동|20111    |1.27     |15835           |2017|\n|강남구|개포2동|14678    |2.51     |5848            |2017|\n|강남구|개포3동|-        |-        |-               |2017|\n|강남구|개포4동|18525    |1.49     |12433           |2017|\n|강남구|논현1동|24186    |1.25     |19349           |2017|\n+------+-------+---------+---------+----------------+----+\nonly showing top 5 rows\n",
					"output_type": "stream"
				}
			]
		},
		{
			"cell_type": "code",
			"source": "new_cols = [\"district_name\", \"dong_name\", \"population\", \"area\", \"density\", \"year\"]\n\nfor i in range (0, len(df.columns)):\n    df = df.withColumnRenamed(df.columns[i], new_cols[i])\n    \n# 결과 확인\ndf.printSchema()\ndf.show(5, False)",
			"metadata": {
				"trusted": true,
				"tags": []
			},
			"execution_count": 5,
			"outputs": [
				{
					"name": "stdout",
					"text": "root\n |-- district_name: string (nullable = true)\n |-- dong_name: string (nullable = true)\n |-- population: string (nullable = true)\n |-- area: string (nullable = true)\n |-- density: string (nullable = true)\n |-- year: string (nullable = true)\n\n+-------------+---------+----------+----+-------+----+\n|district_name|dong_name|population|area|density|year|\n+-------------+---------+----------+----+-------+----+\n|강남구       |개포1동  |20111     |1.27|15835  |2017|\n|강남구       |개포2동  |14678     |2.51|5848   |2017|\n|강남구       |개포3동  |-         |-   |-      |2017|\n|강남구       |개포4동  |18525     |1.49|12433  |2017|\n|강남구       |논현1동  |24186     |1.25|19349  |2017|\n+-------------+---------+----------+----+-------+----+\nonly showing top 5 rows\n",
					"output_type": "stream"
				}
			]
		},
		{
			"cell_type": "code",
			"source": "df.write \\\n  .mode(\"overwrite\") \\\n  .option(\"header\", \"false\") \\\n  .partitionBy(\"year\") \\\n  .csv(f's3a://{raw_bucket}/district_seoul_raw_partitioned/')\n\nspark.sql(\n    \"\"\"\n    CREATE EXTERNAL TABLE if not exists cloud9_raw.rw_district_seoul (\n        `district_name` string,\n        `dong_name` string, \n        `population` bigint, \n        `area` double, \n        `density` bigint\n    )\n    PARTITIONED BY ( \n        `year` bigint\n    )\n    ROW FORMAT DELIMITED \n        FIELDS TERMINATED BY ',' \n    STORED AS INPUTFORMAT \n        'org.apache.hadoop.mapred.TextInputFormat' \n    OUTPUTFORMAT \n        'org.apache.hadoop.hive.ql.io.HiveIgnoreKeyTextOutputFormat'\n    LOCATION\n        's3://cloud9-batch-raw/district_seoul_raw_partitioned/'\n    TBLPROPERTIES (\n        'classification'='csv'\n    )\n    \"\"\"\n)\n\nspark.sql(\"MSCK REPAIR TABLE cloud9_raw.rw_district_seoul\")",
			"metadata": {
				"trusted": true,
				"tags": []
			},
			"execution_count": 9,
			"outputs": [
				{
					"name": "stdout",
					"text": "DataFrame[]\n",
					"output_type": "stream"
				}
			]
		},
		{
			"cell_type": "code",
			"source": "",
			"metadata": {},
			"execution_count": null,
			"outputs": []
		}
	]
}