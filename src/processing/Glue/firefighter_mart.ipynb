{
	"metadata": {
		"kernelspec": {
			"display_name": "Glue PySpark",
			"language": "python",
			"name": "glue_pyspark"
		},
		"language_info": {
			"codemirror_mode": {
				"name": "python",
				"version": 3
			},
			"file_extension": ".py",
			"mimetype": "text/x-python",
			"name": "Python_Glue_Session",
			"pygments_lexer": "python3"
		}
	},
	"nbformat_minor": 4,
	"nbformat": 4,
	"cells": [
		{
			"cell_type": "code",
			"source": "#create glue session\n%idle_timeout 180\n%timeout 30\n%glue_version 5.0\n%worker_type G.1X\n%number_of_workers 2\n\nimport sys\nfrom awsglue.transforms import *\nfrom awsglue.utils import getResolvedOptions\nfrom pyspark.context import SparkContext\nfrom awsglue.context import GlueContext\nfrom awsglue.job import Job\nfrom pyspark.sql import SparkSession\nimport pyspark.sql.functions as F\n  \nsc = SparkContext.getOrCreate()\nglueContext = GlueContext(sc)\nspark = glueContext.spark_session\njob = Job(glueContext)",
			"metadata": {
				"trusted": true,
				"tags": [],
				"vscode": {
					"languageId": "python_glue_session"
				}
			},
			"execution_count": 84,
			"outputs": [
				{
					"name": "stderr",
					"text": "You are already connected to a glueetl session 1a838cac-a610-4e71-9683-f328010f3f2d.\n\nNo change will be made to the current session that is set as glueetl. The session configuration change will apply to newly created sessions.\n",
					"output_type": "stream"
				},
				{
					"name": "stdout",
					"text": "Current idle_timeout is 180 minutes.\nidle_timeout has been set to 180 minutes.\n",
					"output_type": "stream"
				},
				{
					"name": "stderr",
					"text": "You are already connected to a glueetl session 1a838cac-a610-4e71-9683-f328010f3f2d.\n\nNo change will be made to the current session that is set as glueetl. The session configuration change will apply to newly created sessions.\n",
					"output_type": "stream"
				},
				{
					"name": "stdout",
					"text": "Current timeout is 30 minutes.\ntimeout has been set to 30 minutes.\n",
					"output_type": "stream"
				},
				{
					"name": "stderr",
					"text": "You are already connected to a glueetl session 1a838cac-a610-4e71-9683-f328010f3f2d.\n\nNo change will be made to the current session that is set as glueetl. The session configuration change will apply to newly created sessions.\n",
					"output_type": "stream"
				},
				{
					"name": "stdout",
					"text": "Setting Glue version to: 5.0\n",
					"output_type": "stream"
				},
				{
					"name": "stderr",
					"text": "You are already connected to a glueetl session 1a838cac-a610-4e71-9683-f328010f3f2d.\n\nNo change will be made to the current session that is set as glueetl. The session configuration change will apply to newly created sessions.\n",
					"output_type": "stream"
				},
				{
					"name": "stdout",
					"text": "Previous worker type: G.1X\nSetting new worker type to: G.1X\n",
					"output_type": "stream"
				},
				{
					"name": "stderr",
					"text": "You are already connected to a glueetl session 1a838cac-a610-4e71-9683-f328010f3f2d.\n\nNo change will be made to the current session that is set as glueetl. The session configuration change will apply to newly created sessions.\n",
					"output_type": "stream"
				},
				{
					"name": "stdout",
					"text": "Previous number of workers: 2\nSetting new number of workers to: 2\n\n",
					"output_type": "stream"
				}
			]
		},
		{
			"cell_type": "code",
			"source": "#set bucket directory\ntransformed_bucket = 'cloud9-transformed'\nmart_bucket = 'cloud9-mart'",
			"metadata": {
				"trusted": true,
				"tags": [],
				"vscode": {
					"languageId": "python_glue_session"
				}
			},
			"execution_count": 101,
			"outputs": [
				{
					"name": "stdout",
					"text": "\n",
					"output_type": "stream"
				}
			]
		},
		{
			"cell_type": "code",
			"source": "#load schema from transformed_bucket data catalog\ndf = glueContext.create_data_frame_from_catalog(database = \"cloud9_transformed\", table_name = \"tr_fire_station\")",
			"metadata": {
				"trusted": true,
				"tags": [],
				"vscode": {
					"languageId": "python_glue_session"
				}
			},
			"execution_count": 102,
			"outputs": [
				{
					"name": "stdout",
					"text": "\n",
					"output_type": "stream"
				}
			]
		},
		{
			"cell_type": "code",
			"source": "# list loaded schema\ndf.printSchema()\n\n# print sample rows\ndf.show(5)",
			"metadata": {
				"trusted": true,
				"tags": [],
				"vscode": {
					"languageId": "python_glue_session"
				}
			},
			"execution_count": 103,
			"outputs": [
				{
					"name": "stdout",
					"text": "root\n |-- fire_station_name: string (nullable = true)\n |-- fire_station_center_name: string (nullable = true)\n |-- address: string (nullable = true)\n |-- phone: string (nullable = true)\n |-- fax: string (nullable = true)\n |-- latitude: double (nullable = true)\n |-- longitude: double (nullable = true)\n |-- employee_count: long (nullable = true)\n |-- year: integer (nullable = true)\n\n+-----------------+------------------------+--------------------------------+------------+-----------+-----------+-----------+--------------+----+\n|fire_station_name|fire_station_center_name|                         address|       phone|        fax|   latitude|  longitude|employee_count|year|\n+-----------------+------------------------+--------------------------------+------------+-----------+-----------+-----------+--------------+----+\n| 서울소방재난본부|         개포119안전센터|서울특별시 강남구 논현로 10길...| 02-577-2540|02-529-1119|37.47470048| 127.049895|          null|null|\n| 서울소방재난본부|         삼성119안전센터|서울특별시 강남구 테헤란로 62...|02-6981-7556|02-539-9008|37.51027919|127.0668302|          null|null|\n| 서울소방재난본부|         세곡119안전센터|서울특별시 강남구 밤고개로 26...| 02-451-0882|02-451-0883|37.47040382|127.1072317|          null|null|\n| 서울소방재난본부|         수서119안전센터|서울특별시 강남구 광평로31길 ...| 02-445-9019|02-451-0019|37.48492685|127.0928417|          null|null|\n| 서울소방재난본부|         역삼119안전센터| 서울특별시 강남구 역삼로 236...| 02-557-0109|02-508-1193| 37.4971303|127.0424466|          null|null|\n+-----------------+------------------------+--------------------------------+------------+-----------+-----------+-----------+--------------+----+\nonly showing top 5 rows\n",
					"output_type": "stream"
				}
			]
		},
		{
			"cell_type": "code",
			"source": "from pyspark.sql.functions import col\n\n# fire_station_name 컬럼 제거\ndf_dropped = df.drop(\"fire_station_name\")\n\n# employee_count 컬럼에서 null 값을 가진 행 제거\ndf_dropped_filtered = df_dropped.filter(col(\"employee_count\").isNotNull())\n\n# 결과 확인\ndf_dropped_filtered.show()",
			"metadata": {
				"trusted": true,
				"tags": []
			},
			"execution_count": 104,
			"outputs": [
				{
					"name": "stdout",
					"text": "+------------------------+---------------------------------+------------+------------+-----------+-----------+--------------+----+\n|fire_station_center_name|                          address|       phone|         fax|   latitude|  longitude|employee_count|year|\n+------------------------+---------------------------------+------------+------------+-----------+-----------+--------------+----+\n|              강남소방서| 서울특별시 강남구 테헤란로 62...|02-6981-7408| 02-556-2119|37.51027919|127.0668302|           372|2021|\n|              강동소방서|  서울특별시 강동구 성내로 39 ...|02-6981-7600|02-6981-7717|37.52945788|127.1253721|           297|2021|\n|              강북소방서|  서울특별시 강북구 한천로 911...|02-6946-0100|02-6946-0128|37.63305134|127.0381809|           238|2021|\n|              강서소방서|  서울특별시 강서구 양천로 550...|02-6981-5000|02-2187-8243|37.55824607| 126.860047|           316|2021|\n|              관악소방서|  서울특별시 관악구 관악로 97 ...|02-6981-8200| 02-877-4119|37.47412481|126.9526855|           274|2021|\n|              광진소방서| 서울특별시 광진구 광나루로 48...|02-6981-6600|02-6981-6718|37.54482602|127.0827785|           220|2021|\n|              구로소방서|  서울특별시 구로구 경인로 408...|02-2617-0119|02-2619-0121|37.49779283|126.8652158|           303|2021|\n|              금천소방서| 서울특별시 금천구 시흥대로 34...|02-6981-6479|02-2187-8380|37.46413583|126.8979341|           177|2021|\n|              노원소방서|서울특별시 노원구 한글비석로 1...|02-6981-6800| 02-979-6119|37.63825496| 127.071107|           272|2021|\n|              도봉소방서|  서울특별시 도봉구 도봉로 666...|02-6981-8073|02-3493-1119|37.66400647| 127.043019|           234|2021|\n|            동대문소방서| 서울특별시 동대문구 장한로 34...|02-6942-1200|02-2187-8180|37.56375425|127.0667246|           272|2021|\n|              동작소방서|서울특별시 동작구 여의대방로16...|02-6913-7770| 02-848-2111|37.49467213|126.9177186|           234|2021|\n|              마포소방서|  서울특별시 마포구 창전로 76 ...|02-6981-7800| 02-716-1192|37.54939385|126.9332032|           308|2021|\n|            서대문소방서| 서울특별시 서대문구 연희로 18...|02-6981-5400|02-6981-5519|37.57320486|126.9359959|           244|2021|\n|              서초소방서| 서울특별시 서초구 사평대로 67...|02-6981-5811| 02-592-9090|37.49866898|126.9917179|           316|2021|\n|              성동소방서| 서울특별시 성동구 살곶이길 33...|02-2622-1600|02-2622-1719|37.55387886|127.0395198|           237|2021|\n|              성북소방서| 서울특별시 성북구 종암로 27길...|02-6981-7200| 02-925-0119|37.60242272|127.0317474|           242|2021|\n|              송파소방서| 서울특별시 송파구 오금로51길 ...|02-6981-5200| 02-430-8119|37.49983345|127.1425919|           328|2021|\n|              양천소방서| 서울특별시 양천구 목동서로 18...|02-6981-8600|02-2651-6119|37.53023597|126.8723423|           279|2021|\n|            영등포소방서| 서울특별시 영등포구 문래로 19...|02-6981-7000|02-6981-7110|37.51843891|126.9041887|           300|2021|\n+------------------------+---------------------------------+------------+------------+-----------+-----------+--------------+----+\nonly showing top 20 rows\n",
					"output_type": "stream"
				}
			]
		},
		{
			"cell_type": "code",
			"source": "from pyspark.sql.functions import col, regexp_extract\n\n# address 컬럼에서 \"구\" 앞의 부분(구 이름) 추출하여 gu_nm 컬럼에 저장\ndf_gu_nm = df_dropped_filtered.withColumn(\"district_name\", regexp_extract(col(\"address\"), r\"([가-힣]+구)\", 1))\n\n# 결과 확인\ndf_gu_nm.show()",
			"metadata": {
				"trusted": true,
				"tags": []
			},
			"execution_count": 105,
			"outputs": [
				{
					"name": "stdout",
					"text": "+------------------------+---------------------------------+------------+------------+-----------+-----------+--------------+----+-------------+\n|fire_station_center_name|                          address|       phone|         fax|   latitude|  longitude|employee_count|year|district_name|\n+------------------------+---------------------------------+------------+------------+-----------+-----------+--------------+----+-------------+\n|              강남소방서| 서울특별시 강남구 테헤란로 62...|02-6981-7408| 02-556-2119|37.51027919|127.0668302|           372|2021|       강남구|\n|              강동소방서|  서울특별시 강동구 성내로 39 ...|02-6981-7600|02-6981-7717|37.52945788|127.1253721|           297|2021|       강동구|\n|              강북소방서|  서울특별시 강북구 한천로 911...|02-6946-0100|02-6946-0128|37.63305134|127.0381809|           238|2021|       강북구|\n|              강서소방서|  서울특별시 강서구 양천로 550...|02-6981-5000|02-2187-8243|37.55824607| 126.860047|           316|2021|       강서구|\n|              관악소방서|  서울특별시 관악구 관악로 97 ...|02-6981-8200| 02-877-4119|37.47412481|126.9526855|           274|2021|       관악구|\n|              광진소방서| 서울특별시 광진구 광나루로 48...|02-6981-6600|02-6981-6718|37.54482602|127.0827785|           220|2021|       광진구|\n|              구로소방서|  서울특별시 구로구 경인로 408...|02-2617-0119|02-2619-0121|37.49779283|126.8652158|           303|2021|       구로구|\n|              금천소방서| 서울특별시 금천구 시흥대로 34...|02-6981-6479|02-2187-8380|37.46413583|126.8979341|           177|2021|       금천구|\n|              노원소방서|서울특별시 노원구 한글비석로 1...|02-6981-6800| 02-979-6119|37.63825496| 127.071107|           272|2021|       노원구|\n|              도봉소방서|  서울특별시 도봉구 도봉로 666...|02-6981-8073|02-3493-1119|37.66400647| 127.043019|           234|2021|       도봉구|\n|            동대문소방서| 서울특별시 동대문구 장한로 34...|02-6942-1200|02-2187-8180|37.56375425|127.0667246|           272|2021|     동대문구|\n|              동작소방서|서울특별시 동작구 여의대방로16...|02-6913-7770| 02-848-2111|37.49467213|126.9177186|           234|2021|       동작구|\n|              마포소방서|  서울특별시 마포구 창전로 76 ...|02-6981-7800| 02-716-1192|37.54939385|126.9332032|           308|2021|       마포구|\n|            서대문소방서| 서울특별시 서대문구 연희로 18...|02-6981-5400|02-6981-5519|37.57320486|126.9359959|           244|2021|     서대문구|\n|              서초소방서| 서울특별시 서초구 사평대로 67...|02-6981-5811| 02-592-9090|37.49866898|126.9917179|           316|2021|       서초구|\n|              성동소방서| 서울특별시 성동구 살곶이길 33...|02-2622-1600|02-2622-1719|37.55387886|127.0395198|           237|2021|       성동구|\n|              성북소방서| 서울특별시 성북구 종암로 27길...|02-6981-7200| 02-925-0119|37.60242272|127.0317474|           242|2021|       성북구|\n|              송파소방서| 서울특별시 송파구 오금로51길 ...|02-6981-5200| 02-430-8119|37.49983345|127.1425919|           328|2021|       송파구|\n|              양천소방서| 서울특별시 양천구 목동서로 18...|02-6981-8600|02-2651-6119|37.53023597|126.8723423|           279|2021|       양천구|\n|            영등포소방서| 서울특별시 영등포구 문래로 19...|02-6981-7000|02-6981-7110|37.51843891|126.9041887|           300|2021|     영등포구|\n+------------------------+---------------------------------+------------+------------+-----------+-----------+--------------+----+-------------+\nonly showing top 20 rows\n",
					"output_type": "stream"
				}
			]
		},
		{
			"cell_type": "code",
			"source": "from pyspark.sql import functions as F\nfrom pyspark.sql.types import StringType, IntegerType, DoubleType\n\n# 컬럼에서 'string'이 아닌 필드를 추출하고 필요한 타입으로 변환\ndf_mart = df_gu_nm \\\n    .withColumn(\"fire_station_center_name\", F.col(\"fire_station_center_name\").cast(StringType())) \\\n    .withColumn(\"address\", F.col(\"address\").cast(StringType())) \\\n    .withColumn(\"phone\", F.col(\"phone\").cast(StringType())) \\\n    .withColumn(\"fax\", F.col(\"fax\").cast(StringType())) \\\n    .withColumn(\"latitude\", F.col(\"latitude\").cast(DoubleType())) \\\n    .withColumn(\"longitude\", F.col(\"longitude\").cast(DoubleType())) \\\n    .withColumn(\"employee_count\", F.col(\"employee_count\").cast(IntegerType())) \\\n    .withColumn(\"year\", F.col(\"year\").cast(StringType())) \\\n    .withColumn(\"district_name\", F.col(\"district_name\").cast(StringType())) \\\n    .select(\n        \"fire_station_center_name\", \n        \"address\", \n        \"phone\", \n        \"fax\",\n        \"latitude\",\n        \"longitude\",\n        \"employee_count\",\n        \"year\",\n        \"district_name\"\n    )\n\n# 결과 확인\ndf_mart.printSchema()",
			"metadata": {
				"trusted": true,
				"tags": []
			},
			"execution_count": 106,
			"outputs": [
				{
					"name": "stdout",
					"text": "root\n |-- fire_station_center_name: string (nullable = true)\n |-- address: string (nullable = true)\n |-- phone: string (nullable = true)\n |-- fax: string (nullable = true)\n |-- latitude: double (nullable = true)\n |-- longitude: double (nullable = true)\n |-- employee_count: integer (nullable = true)\n |-- year: string (nullable = true)\n |-- district_name: string (nullable = true)\n",
					"output_type": "stream"
				}
			]
		},
		{
			"cell_type": "code",
			"source": "#write mart data to S3\ndf_mart.write \\\n              .mode(\"overwrite\") \\\n              .format('parquet') \\\n              .partitionBy(\"year\") \\\n              .save(f's3a://{mart_bucket}/firefighter_mart/')\n\n# Create mt_fire_station table if not exists\nspark.sql(\n    \"\"\"\n    CREATE EXTERNAL TABLE IF NOT EXISTS `cloud9_mart`.mt_firefighter (\n        `fire_station_center_name` STRING,\n        `address` STRING, \n        `phone` STRING, \n        `fax` STRING, \n        `latitude` DOUBLE, \n        `longitude` DOUBLE,\n        `employee_count` INT,\n        `district_name` STRING\n    )\n    PARTITIONED BY (`year` STRING\n    )\n    ROW FORMAT SERDE \n        'org.apache.hadoop.hive.ql.io.parquet.serde.ParquetHiveSerDe' \n    STORED AS INPUTFORMAT \n        'org.apache.hadoop.hive.ql.io.parquet.MapredParquetInputFormat' \n    OUTPUTFORMAT \n        'org.apache.hadoop.hive.ql.io.parquet.MapredParquetOutputFormat'\n    LOCATION\n        's3://cloud9-mart/firefighter_mart'\n    TBLPROPERTIES (\n        'classification' = 'parquet'\n    )\n    \"\"\"\n)\n\n#Load partitions\nspark.sql(\"MSCK REPAIR TABLE cloud9_mart.mt_firefighter\")",
			"metadata": {
				"trusted": true,
				"tags": []
			},
			"execution_count": 107,
			"outputs": [
				{
					"name": "stdout",
					"text": "DataFrame[]\n",
					"output_type": "stream"
				}
			]
		}
	]
}