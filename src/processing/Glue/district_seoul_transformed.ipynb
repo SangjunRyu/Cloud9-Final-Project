{
	"metadata": {
		"kernelspec": {
			"name": "glue_pyspark",
			"display_name": "Glue PySpark",
			"language": "python"
		},
		"language_info": {
			"name": "Python_Glue_Session",
			"mimetype": "text/x-python",
			"codemirror_mode": {
				"name": "python",
				"version": 3
			},
			"pygments_lexer": "python3",
			"file_extension": ".py"
		}
	},
	"nbformat_minor": 4,
	"nbformat": 4,
	"cells": [
		{
			"cell_type": "code",
			"source": "#create glue session\n%idle_timeout 60\n%timeout 60\n%glue_version 5.0\n%worker_type G.1X\n%number_of_workers 2\n\nimport sys\nfrom awsglue.transforms import *\nfrom awsglue.utils import getResolvedOptions\nfrom pyspark.context import SparkContext\nfrom awsglue.context import GlueContext\nfrom awsglue.job import Job\nimport pyspark.sql.functions as f\n  \nsc = SparkContext.getOrCreate()\nglueContext = GlueContext(sc)\nspark = glueContext.spark_session\njob = Job(glueContext)",
			"metadata": {
				"trusted": true,
				"tags": []
			},
			"execution_count": 1,
			"outputs": [
				{
					"name": "stdout",
					"text": "Welcome to the Glue Interactive Sessions Kernel\nFor more information on available magic commands, please type %help in any new cell.\n\nPlease view our Getting Started page to access the most up-to-date information on the Interactive Sessions kernel: https://docs.aws.amazon.com/glue/latest/dg/interactive-sessions.html\nInstalled kernel version: 1.0.7 \nCurrent idle_timeout is None minutes.\nidle_timeout has been set to 60 minutes.\nCurrent timeout is None minutes.\ntimeout has been set to 60 minutes.\nSetting Glue version to: 5.0\nPrevious worker type: None\nSetting new worker type to: G.1X\nPrevious number of workers: None\nSetting new number of workers to: 2\nTrying to create a Glue session for the kernel.\nSession Type: glueetl\nWorker Type: G.1X\nNumber of Workers: 2\nIdle Timeout: 60\nTimeout: 60\nSession ID: 6da159ee-476e-4fcf-995b-5ba52c6a65b4\nApplying the following default arguments:\n--glue_kernel_version 1.0.7\n--enable-glue-datacatalog true\nWaiting for session 6da159ee-476e-4fcf-995b-5ba52c6a65b4 to get into ready status...\nSession 6da159ee-476e-4fcf-995b-5ba52c6a65b4 has been created.\n\n",
					"output_type": "stream"
				}
			]
		},
		{
			"cell_type": "code",
			"source": "#set bucket directory\nraw_bucket = 'cloud9-batch-raw'\ntransformed_bucket = 'cloud9-transformed'",
			"metadata": {
				"trusted": true,
				"tags": []
			},
			"execution_count": 2,
			"outputs": [
				{
					"name": "stdout",
					"text": "\n",
					"output_type": "stream"
				}
			]
		},
		{
			"cell_type": "code",
			"source": "#load schema from raw data catalog\ndf = glueContext.create_data_frame_from_catalog(database = \"cloud9_raw\", table_name = \"rw_district_seoul\")",
			"metadata": {
				"trusted": true,
				"tags": []
			},
			"execution_count": 3,
			"outputs": [
				{
					"name": "stdout",
					"text": "/usr/lib/spark/python/lib/pyspark.zip/pyspark/sql/dataframe.py:147: UserWarning: DataFrame constructor is internal. Do not directly use it.\n",
					"output_type": "stream"
				}
			]
		},
		{
			"cell_type": "code",
			"source": "# list loaded schema\n#df.printSchema()\n\n#print sample rows\n#df.show(3)",
			"metadata": {
				"trusted": true,
				"tags": []
			},
			"execution_count": 6,
			"outputs": []
		},
		{
			"cell_type": "code",
			"source": "#Transform columns, data types\nfrom pyspark.sql.functions import col\nfrom pyspark.sql.types import *\n\n# 'struct' 컬럼에서 'string'이 아닌 필드를 추출하고 필요한 타입으로 변환\ndf_transformed = df \\\n    .withColumn(\"population\", col(\"population.long\").cast(IntegerType())) \\\n    .withColumn(\"area\", col(\"area.double\").cast(DoubleType())) \\\n    .withColumn(\"density\", col(\"density.long\").cast(IntegerType())) \\\n    .select(\n        \"district_name\", \n        \"dong_name\", \n        \"population\", \n        \"area\", \n        \"density\",\n        \"year\"\n    )\n\n# 결과 확인\n#df_transformed.printSchema()\n#df_transformed.show(3)",
			"metadata": {
				"trusted": true,
				"tags": []
			},
			"execution_count": 7,
			"outputs": [
				{
					"name": "stdout",
					"text": "\n",
					"output_type": "stream"
				}
			]
		},
		{
			"cell_type": "code",
			"source": "# Write transformed data to S3\ndf_transformed.write \\\n              .mode(\"overwrite\") \\\n              .format('parquet') \\\n              .partitionBy(\"year\") \\\n              .save(f's3a://{transformed_bucket}/district_seoul_transformed/')\n\n# Create tr_district_seoul table if not exists\nspark.sql(\n    \"\"\"\n    CREATE EXTERNAL TABLE IF NOT EXISTS cloud9_transformed.tr_district_seoul (\n        `district_name` STRING,\n        `dong_name` STRING,\n        `population` BIGINT,\n        `area` DOUBLE,\n        `density` BIGINT\n    )\n    PARTITIONED BY (\n        `year` STRING \n    )\n    ROW FORMAT SERDE \n        'org.apache.hadoop.hive.ql.io.parquet.serde.ParquetHiveSerDe'\n    STORED AS INPUTFORMAT \n        'org.apache.hadoop.hive.ql.io.parquet.MapredParquetInputFormat' \n    OUTPUTFORMAT \n        'org.apache.hadoop.hive.ql.io.parquet.MapredParquetOutputFormat'\n    LOCATION \n        's3://cloud9-transformed/district_seoul_transformed/'\n    TBLPROPERTIES (\n        'classification' = 'parquet'\n    )\n    \"\"\"\n)\n\n# Add yesterday's partition\nfrom datetime import datetime, timedelta\n\nyesterday_kst = datetime.utcnow() + timedelta(hours=9)\nyear = yesterday_kst.strftime('%Y')\n\nspark.sql(\n    f\"\"\"\n    ALTER TABLE cloud9_transformed.tr_district_seoul \n    ADD IF NOT EXISTS \n    PARTITION (year='{year}') \n        LOCATION 's3a://cloud9-transformed/district_seoul_transformed/year={year}/'\n    \"\"\"\n)",
			"metadata": {
				"trusted": true,
				"tags": []
			},
			"execution_count": 12,
			"outputs": [
				{
					"name": "stdout",
					"text": "DataFrame[]\n",
					"output_type": "stream"
				}
			]
		}
	]
}