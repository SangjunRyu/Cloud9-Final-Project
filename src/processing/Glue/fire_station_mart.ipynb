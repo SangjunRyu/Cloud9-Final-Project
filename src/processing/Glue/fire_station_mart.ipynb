{
	"metadata": {
		"kernelspec": {
			"display_name": "Glue PySpark",
			"language": "python",
			"name": "glue_pyspark"
		},
		"language_info": {
			"codemirror_mode": {
				"name": "python",
				"version": 3
			},
			"file_extension": ".py",
			"mimetype": "text/x-python",
			"name": "Python_Glue_Session",
			"pygments_lexer": "python3"
		}
	},
	"nbformat_minor": 4,
	"nbformat": 4,
	"cells": [
		{
			"cell_type": "code",
			"source": "#create glue session\n%idle_timeout 30\n%timeout 30\n%glue_version 5.0\n%worker_type G.1X\n%number_of_workers 2\n\nimport sys\nfrom awsglue.transforms import *\nfrom awsglue.utils import getResolvedOptions\nfrom pyspark.context import SparkContext\nfrom awsglue.context import GlueContext\nfrom awsglue.job import Job\nimport pyspark.sql.functions as f\n  \nsc = SparkContext.getOrCreate()\nglueContext = GlueContext(sc)\nspark = glueContext.spark_session\njob = Job(glueContext)",
			"metadata": {
				"trusted": true,
				"tags": [],
				"vscode": {
					"languageId": "python_glue_session"
				}
			},
			"execution_count": 3,
			"outputs": [
				{
					"name": "stderr",
					"text": "You are already connected to a glueetl session 93c698ed-bd3b-4bb8-955e-9ff48b66c808.\n\nNo change will be made to the current session that is set as glueetl. The session configuration change will apply to newly created sessions.\n",
					"output_type": "stream"
				},
				{
					"name": "stdout",
					"text": "Current idle_timeout is 60 minutes.\nidle_timeout has been set to 60 minutes.\n",
					"output_type": "stream"
				},
				{
					"name": "stderr",
					"text": "You are already connected to a glueetl session 93c698ed-bd3b-4bb8-955e-9ff48b66c808.\n\nNo change will be made to the current session that is set as glueetl. The session configuration change will apply to newly created sessions.\n",
					"output_type": "stream"
				},
				{
					"name": "stdout",
					"text": "Current timeout is 60 minutes.\ntimeout has been set to 60 minutes.\n",
					"output_type": "stream"
				},
				{
					"name": "stderr",
					"text": "You are already connected to a glueetl session 93c698ed-bd3b-4bb8-955e-9ff48b66c808.\n\nNo change will be made to the current session that is set as glueetl. The session configuration change will apply to newly created sessions.\n",
					"output_type": "stream"
				},
				{
					"name": "stdout",
					"text": "Setting Glue version to: 5.0\n",
					"output_type": "stream"
				},
				{
					"name": "stderr",
					"text": "You are already connected to a glueetl session 93c698ed-bd3b-4bb8-955e-9ff48b66c808.\n\nNo change will be made to the current session that is set as glueetl. The session configuration change will apply to newly created sessions.\n",
					"output_type": "stream"
				},
				{
					"name": "stdout",
					"text": "Previous worker type: G.1X\nSetting new worker type to: G.1X\n",
					"output_type": "stream"
				},
				{
					"name": "stderr",
					"text": "You are already connected to a glueetl session 93c698ed-bd3b-4bb8-955e-9ff48b66c808.\n\nNo change will be made to the current session that is set as glueetl. The session configuration change will apply to newly created sessions.\n",
					"output_type": "stream"
				},
				{
					"name": "stdout",
					"text": "Previous number of workers: 2\nSetting new number of workers to: 2\n\n",
					"output_type": "stream"
				}
			]
		},
		{
			"cell_type": "code",
			"source": "#set bucket directory\ntransformed_bucket = 'cloud9-transformed'\nmart_bucket = 'cloud9-mart'",
			"metadata": {
				"trusted": true,
				"tags": [],
				"vscode": {
					"languageId": "python_glue_session"
				}
			},
			"execution_count": 12,
			"outputs": [
				{
					"name": "stdout",
					"text": "\n",
					"output_type": "stream"
				}
			]
		},
		{
			"cell_type": "code",
			"source": "#load schema from transformed_bucket data catalog\ndf = glueContext.create_data_frame_from_catalog(database = \"cloud9_transformed\", table_name = \"tr_fire_station\")",
			"metadata": {
				"trusted": true,
				"tags": [],
				"vscode": {
					"languageId": "python_glue_session"
				}
			},
			"execution_count": 5,
			"outputs": [
				{
					"name": "stdout",
					"text": "/usr/lib/spark/python/lib/pyspark.zip/pyspark/sql/dataframe.py:147: UserWarning: DataFrame constructor is internal. Do not directly use it.\n",
					"output_type": "stream"
				}
			]
		},
		{
			"cell_type": "code",
			"source": "# list loaded schema\n# df.printSchema()\n\n# print sample rows\n# df.show(5)",
			"metadata": {
				"trusted": true,
				"tags": [],
				"vscode": {
					"languageId": "python_glue_session"
				}
			},
			"execution_count": 8,
			"outputs": [
				{
					"name": "stdout",
					"text": "+-----------------+------------------------+--------------------------------+------------+-----------+-----------+-----------+--------------+----+\n|fire_station_name|fire_station_center_name|                         address|       phone|        fax|   latitude|  longitude|employee_count|year|\n+-----------------+------------------------+--------------------------------+------------+-----------+-----------+-----------+--------------+----+\n| 서울소방재난본부|         개포119안전센터|서울특별시 강남구 논현로 10길...| 02-577-2540|02-529-1119|37.47470048| 127.049895|          NULL|NULL|\n| 서울소방재난본부|         삼성119안전센터|서울특별시 강남구 테헤란로 62...|02-6981-7556|02-539-9008|37.51027919|127.0668302|          NULL|NULL|\n| 서울소방재난본부|         세곡119안전센터|서울특별시 강남구 밤고개로 26...| 02-451-0882|02-451-0883|37.47040382|127.1072317|          NULL|NULL|\n| 서울소방재난본부|         수서119안전센터|서울특별시 강남구 광평로31길 ...| 02-445-9019|02-451-0019|37.48492685|127.0928417|          NULL|NULL|\n| 서울소방재난본부|         역삼119안전센터| 서울특별시 강남구 역삼로 236...| 02-557-0109|02-508-1193| 37.4971303|127.0424466|          NULL|NULL|\n+-----------------+------------------------+--------------------------------+------------+-----------+-----------+-----------+--------------+----+\nonly showing top 5 rows\n",
					"output_type": "stream"
				}
			]
		},
		{
			"cell_type": "code",
			"source": "from pyspark.sql.functions import col\nfrom pyspark.sql.types import *\n\n# 컬럼 필요한 타입으로 변환\ndf = df.withColumn(\"year\", col(\"year\").cast(IntegerType()))  # \"year\" 칼럼을 IntegerType으로 변환\n\ndf = df \\\n    .withColumn(\"fire_station_name\", col(\"fire_station_name\")) \\\n    .withColumn(\"fire_station_center_name\", col(\"fire_station_center_name\")) \\\n    .withColumn(\"address\", col(\"address\")) \\\n    .withColumn(\"phone\", col(\"phone\")) \\\n    .withColumn(\"fax\", col(\"fax\")) \\\n    .withColumn(\"latitude\", col(\"latitude\")) \\\n    .withColumn(\"longitude\", col(\"longitude\")) \\\n    .withColumn(\"employee_count\", col(\"employee_count\")) \n\n# 결과 확인\ndf.printSchema()\ndf.show(3)",
			"metadata": {
				"trusted": true,
				"tags": []
			},
			"execution_count": 6,
			"outputs": [
				{
					"name": "stdout",
					"text": "root\n |-- fire_station_name: string (nullable = true)\n |-- fire_station_center_name: string (nullable = true)\n |-- address: string (nullable = true)\n |-- phone: string (nullable = true)\n |-- fax: string (nullable = true)\n |-- latitude: double (nullable = true)\n |-- longitude: double (nullable = true)\n |-- employee_count: long (nullable = true)\n |-- year: integer (nullable = true)\n\n+-----------------+------------------------+--------------------------------+------------+-----------+-----------+-----------+--------------+----+\n|fire_station_name|fire_station_center_name|                         address|       phone|        fax|   latitude|  longitude|employee_count|year|\n+-----------------+------------------------+--------------------------------+------------+-----------+-----------+-----------+--------------+----+\n| 서울소방재난본부|         개포119안전센터|서울특별시 강남구 논현로 10길...| 02-577-2540|02-529-1119|37.47470048| 127.049895|          NULL|NULL|\n| 서울소방재난본부|         삼성119안전센터|서울특별시 강남구 테헤란로 62...|02-6981-7556|02-539-9008|37.51027919|127.0668302|          NULL|NULL|\n| 서울소방재난본부|         세곡119안전센터|서울특별시 강남구 밤고개로 26...| 02-451-0882|02-451-0883|37.47040382|127.1072317|          NULL|NULL|\n+-----------------+------------------------+--------------------------------+------------+-----------+-----------+-----------+--------------+----+\nonly showing top 3 rows\n",
					"output_type": "stream"
				}
			]
		},
		{
			"cell_type": "code",
			"source": "# 최근 년도 데이터만 필터하기\nfrom pyspark.sql.functions import max\n\nrecent_year = df.agg(max('year')).collect()[0][0]  # 'year' 칼럼의 최대값 구하기\n\nfiltered_df = df.filter((col('year') == recent_year) | col('year').isNull())\n\n# 결과 출력\ndf_mart = filtered_df\n#df_mart.show()",
			"metadata": {
				"trusted": true,
				"tags": [],
				"vscode": {
					"languageId": "python_glue_session"
				}
			},
			"execution_count": 9,
			"outputs": [
				{
					"name": "stdout",
					"text": "+-----------------+------------------------+---------------------------------+------------+------------+-----------+-----------+--------------+----+\n|fire_station_name|fire_station_center_name|                          address|       phone|         fax|   latitude|  longitude|employee_count|year|\n+-----------------+------------------------+---------------------------------+------------+------------+-----------+-----------+--------------+----+\n| 서울소방재난본부|         개포119안전센터| 서울특별시 강남구 논현로 10길...| 02-577-2540| 02-529-1119|37.47470048| 127.049895|          NULL|NULL|\n| 서울소방재난본부|         삼성119안전센터| 서울특별시 강남구 테헤란로 62...|02-6981-7556| 02-539-9008|37.51027919|127.0668302|          NULL|NULL|\n| 서울소방재난본부|         세곡119안전센터| 서울특별시 강남구 밤고개로 26...| 02-451-0882| 02-451-0883|37.47040382|127.1072317|          NULL|NULL|\n| 서울소방재난본부|         수서119안전센터| 서울특별시 강남구 광평로31길 ...| 02-445-9019| 02-451-0019|37.48492685|127.0928417|          NULL|NULL|\n| 서울소방재난본부|         역삼119안전센터|  서울특별시 강남구 역삼로 236...| 02-557-0109| 02-508-1193| 37.4971303|127.0424466|          NULL|NULL|\n| 서울소방재난본부|         영동119안전센터| 서울특별시 강남구 도산대로 32...| 02-517-5119| 02-542-0119|37.52214286|127.0369343|          NULL|NULL|\n| 서울소방재난본부|         강일119안전센터| 서울특별시 강동구 고덕로98길 ...|02-6981-7790| 02-429-0121| 37.5573404|127.1796845|          NULL|NULL|\n| 서울소방재난본부|         고덕119안전센터| 서울특별시 강동구 양재대로156...| 02-441-0119| 02-426-0431| 37.5571476|127.1518882|          NULL|NULL|\n| 서울소방재난본부|         길동119안전센터|  서울특별시 강동구 천중로 215...| 02-486-1727| 02-487-6119|37.54097449|127.1443577|          NULL|NULL|\n| 서울소방재난본부|         성내119안전센터|  서울특별시 강동구 성내로 39 ...|02-6981-7750|02-6981-7717|37.52945788|127.1253721|          NULL|NULL|\n| 서울소방재난본부|         암사119안전센터| 서울특별시 강동구 올림픽로 81...|02-3426-2119| 02-429-0427|37.55398344|127.1286375|          NULL|NULL|\n| 서울소방재난본부|         천호119안전센터| 서울특별시 강동구 진황도로 37...| 02-476-0119| 02-474-1721|37.53861994|127.1313703|          NULL|NULL|\n| 서울소방재난본부|         미아119안전센터|  서울특별시 강북구 도봉로 125...| 02-983-9111| 02-981-0119| 37.6200218|127.0282947|          NULL|NULL|\n| 서울소방재난본부|         번동119안전센터|  서울특별시 강북구 한천로 911...|02-6946-0250|02-6946-0229|37.63305134|127.0381809|          NULL|NULL|\n| 서울소방재난본부|       삼각산119안전센터|  서울특별시 강북구 솔샘로 208...| 02-983-5119| 02-984-5119|37.61986254|127.0155034|          NULL|NULL|\n| 서울소방재난본부|         우이119안전센터| 서울특별시 강북구 삼각산로 11...| 02-904-0119| 02-998-9116|37.64095359|127.0164963|          NULL|NULL|\n| 서울소방재난본부|         개화119안전센터|서울특별시 강서구 개화동로19길...|02-6981-5185|02-2187-8248|37.57500017|126.8031461|          NULL|NULL|\n| 서울소방재난본부|         등촌119안전센터|  서울특별시 강서구 양천로 550...|02-6981-5120|02-2187-8244|37.55824607| 126.860047|          NULL|NULL|\n| 서울소방재난본부|         마곡119안전센터| 서울특별시 강서구 마곡서로 9 ...|02-6981-5190|02-2187-8249|37.55593627|126.8207189|          NULL|NULL|\n| 서울소방재난본부|         발산119안전센터|  서울특별시 강서구 강서로 329...|02-6981-5175|02-2187-8246|37.55526113| 126.836861|          NULL|NULL|\n+-----------------+------------------------+---------------------------------+------------+------------+-----------+-----------+--------------+----+\nonly showing top 20 rows\n",
					"output_type": "stream"
				}
			]
		},
		{
			"cell_type": "code",
			"source": "#write mart data to S3\ndf_mart.write \\\n              .mode(\"overwrite\") \\\n              .format('parquet') \\\n              .partitionBy(\"fire_station_center_name\") \\\n              .save(f's3://{mart_bucket}/fire_station_mart/')",
			"metadata": {
				"trusted": true,
				"tags": [],
				"vscode": {
					"languageId": "python_glue_session"
				}
			},
			"execution_count": 26,
			"outputs": [
				{
					"name": "stdout",
					"text": "\n",
					"output_type": "stream"
				}
			]
		},
		{
			"cell_type": "code",
			"source": "# Create mt_fire_station table if not exists\nspark.sql(\n    \"\"\"\n    CREATE EXTERNAL TABLE IF NOT EXISTS `cloud9_mart`.mt_fire_station (\n        `fire_station_name` STRING,\n        `address` STRING, \n        `phone` STRING, \n        `fax` STRING, \n        `latitude` DOUBLE, \n        `longitude` DOUBLE \n    )\n    PARTITIONED BY (`fire_station_center_name` STRING\n    )\n    ROW FORMAT SERDE \n        'org.apache.hadoop.hive.ql.io.parquet.serde.ParquetHiveSerDe' \n    STORED AS INPUTFORMAT \n        'org.apache.hadoop.hive.ql.io.parquet.MapredParquetInputFormat' \n    OUTPUTFORMAT \n        'org.apache.hadoop.hive.ql.io.parquet.MapredParquetOutputFormat'\n    LOCATION\n        's3://cloud9-mart/fire_station_mart'\n    TBLPROPERTIES (\n        'classification' = 'parquet'\n    )\n    \"\"\"\n)\n\n# Add partition for fire_station_center_name\nfrom datetime import datetime, timedelta\n\npartition_value = \"example_center_name\"  # Replace with actual partition value\n\nspark.sql(\n    f\"\"\"\n    ALTER TABLE cloud9_mart.mt_fire_station \n    ADD IF NOT EXISTS \n    PARTITION (fire_station_center_name='{partition_value}') \n        LOCATION 's3://cloud9-mart/fire_station_mart/fire_station_center_name={partition_value}/'\n    \"\"\"\n)",
			"metadata": {
				"trusted": true,
				"tags": []
			},
			"execution_count": 30,
			"outputs": [
				{
					"name": "stdout",
					"text": "DataFrame[]\n",
					"output_type": "stream"
				}
			]
		}
	]
}