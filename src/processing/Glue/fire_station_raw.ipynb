{
	"metadata": {
		"kernelspec": {
			"name": "glue_pyspark",
			"display_name": "Glue PySpark",
			"language": "python"
		},
		"language_info": {
			"name": "Python_Glue_Session",
			"mimetype": "text/x-python",
			"codemirror_mode": {
				"name": "python",
				"version": 3
			},
			"pygments_lexer": "python3",
			"file_extension": ".py"
		}
	},
	"nbformat_minor": 4,
	"nbformat": 4,
	"cells": [
		{
			"cell_type": "code",
			"source": "%idle_timeout 60\n%timeout 30\n%glue_version 5.0\n%worker_type G.1X\n%number_of_workers 5\n\nimport sys\nfrom awsglue.transforms import *\nfrom awsglue.utils import getResolvedOptions\nfrom pyspark.context import SparkContext\nfrom awsglue.context import GlueContext\nfrom awsglue.job import Job\nimport pyspark.sql.functions as f\n  \nsc = SparkContext.getOrCreate()\nglueContext = GlueContext(sc)\nspark = glueContext.spark_session\njob = Job(glueContext)",
			"metadata": {
				"trusted": true
			},
			"execution_count": 8,
			"outputs": [
				{
					"name": "stderr",
					"text": "You are already connected to a glueetl session 32b6ab4c-733b-46d8-bcc8-e4b14f55d12c.\n\nNo change will be made to the current session that is set as glueetl. The session configuration change will apply to newly created sessions.\n",
					"output_type": "stream"
				},
				{
					"name": "stdout",
					"text": "Current idle_timeout is 60 minutes.\nidle_timeout has been set to 60 minutes.\n",
					"output_type": "stream"
				},
				{
					"name": "stderr",
					"text": "You are already connected to a glueetl session 32b6ab4c-733b-46d8-bcc8-e4b14f55d12c.\n\nNo change will be made to the current session that is set as glueetl. The session configuration change will apply to newly created sessions.\n",
					"output_type": "stream"
				},
				{
					"name": "stdout",
					"text": "Current timeout is 30 minutes.\ntimeout has been set to 30 minutes.\n",
					"output_type": "stream"
				},
				{
					"name": "stderr",
					"text": "You are already connected to a glueetl session 32b6ab4c-733b-46d8-bcc8-e4b14f55d12c.\n\nNo change will be made to the current session that is set as glueetl. The session configuration change will apply to newly created sessions.\n",
					"output_type": "stream"
				},
				{
					"name": "stdout",
					"text": "Setting Glue version to: 5.0\n",
					"output_type": "stream"
				},
				{
					"name": "stderr",
					"text": "You are already connected to a glueetl session 32b6ab4c-733b-46d8-bcc8-e4b14f55d12c.\n\nNo change will be made to the current session that is set as glueetl. The session configuration change will apply to newly created sessions.\n",
					"output_type": "stream"
				},
				{
					"name": "stdout",
					"text": "Previous worker type: G.1X\nSetting new worker type to: G.1X\n",
					"output_type": "stream"
				},
				{
					"name": "stderr",
					"text": "You are already connected to a glueetl session 32b6ab4c-733b-46d8-bcc8-e4b14f55d12c.\n\nNo change will be made to the current session that is set as glueetl. The session configuration change will apply to newly created sessions.\n",
					"output_type": "stream"
				},
				{
					"name": "stdout",
					"text": "Previous number of workers: 5\nSetting new number of workers to: 5\n\n",
					"output_type": "stream"
				}
			]
		},
		{
			"cell_type": "code",
			"source": "raw_bucket = 'cloud9-batch-raw'",
			"metadata": {
				"trusted": true,
				"tags": []
			},
			"execution_count": 9,
			"outputs": [
				{
					"name": "stdout",
					"text": "\n",
					"output_type": "stream"
				}
			]
		},
		{
			"cell_type": "code",
			"source": "df = spark.read \\\n          .option(\"header\", \"true\") \\\n          .option(\"encoding\", \"utf-8\") \\\n          .csv(f's3://{raw_bucket}/fire_station/')\n\ndf.printSchema()\ndf.show(5, False)",
			"metadata": {
				"trusted": true,
				"tags": []
			},
			"execution_count": 10,
			"outputs": [
				{
					"name": "stdout",
					"text": "root\n |-- 상위 본부명: string (nullable = true)\n |-- 119안전센터명: string (nullable = true)\n |-- 주소: string (nullable = true)\n |-- 전화번호: string (nullable = true)\n |-- FAX: string (nullable = true)\n |-- X좌표: string (nullable = true)\n |-- Y좌표: string (nullable = true)\n |-- 연도: string (nullable = true)\n |-- 근무인원수: string (nullable = true)\n\n+----------------+-------------+---------------------------------------+------------+------------+-----------+-----------+----+----------+\n|상위 본부명     |119안전센터명|주소                                   |전화번호    |FAX         |X좌표      |Y좌표      |연도|근무인원수|\n+----------------+-------------+---------------------------------------+------------+------------+-----------+-----------+----+----------+\n|서울소방재난본부|강남소방서   |서울특별시 강남구 테헤란로 629 (삼성동)|02-6981-7408|02-556-2119 |37.51027919|127.0668302|2017|325       |\n|서울소방재난본부|강동소방서   |서울특별시 강동구 성내로 39 (성내동)   |02-6981-7600|02-6981-7717|37.52945788|127.1253721|2017|266       |\n|서울소방재난본부|강북소방서   |서울특별시 강북구 한천로 911 (번동)    |02-6946-0100|02-6946-0128|37.63305134|127.0381809|2017|228       |\n|서울소방재난본부|강서소방서   |서울특별시 강서구 양천로 550 (등촌동)  |02-6981-5000|02-2187-8243|37.55824607|126.860047 |2017|279       |\n|서울소방재난본부|관악소방서   |서울특별시 관악구 관악로 97 (봉천동)   |02-6981-8200|02-877-4119 |37.47412481|126.9526855|2017|260       |\n+----------------+-------------+---------------------------------------+------------+------------+-----------+-----------+----+----------+\nonly showing top 5 rows\n",
					"output_type": "stream"
				}
			]
		},
		{
			"cell_type": "code",
			"source": "new_cols = [\"fire_station_name\", \"fire_station_center_name\", \"address\", \"phone\", \"fax\", \"x-axis\", \"y-axis\", \"year\", \"employee_count\"]\n\nfor i in range (0, len(df.columns)):\n    df = df.withColumnRenamed(df.columns[i], new_cols[i])\n    \n# 결과 확인\ndf.printSchema()\ndf.show(5, False)",
			"metadata": {
				"trusted": true,
				"tags": []
			},
			"execution_count": 11,
			"outputs": [
				{
					"name": "stdout",
					"text": "root\n |-- fire_station_name: string (nullable = true)\n |-- fire_station_center_name: string (nullable = true)\n |-- address: string (nullable = true)\n |-- phone: string (nullable = true)\n |-- fax: string (nullable = true)\n |-- x-axis: string (nullable = true)\n |-- y-axis: string (nullable = true)\n |-- year: string (nullable = true)\n |-- employee_count: string (nullable = true)\n\n+-----------------+------------------------+---------------------------------------+------------+------------+-----------+-----------+----+--------------+\n|fire_station_name|fire_station_center_name|address                                |phone       |fax         |x-axis     |y-axis     |year|employee_count|\n+-----------------+------------------------+---------------------------------------+------------+------------+-----------+-----------+----+--------------+\n|서울소방재난본부 |강남소방서              |서울특별시 강남구 테헤란로 629 (삼성동)|02-6981-7408|02-556-2119 |37.51027919|127.0668302|2017|325           |\n|서울소방재난본부 |강동소방서              |서울특별시 강동구 성내로 39 (성내동)   |02-6981-7600|02-6981-7717|37.52945788|127.1253721|2017|266           |\n|서울소방재난본부 |강북소방서              |서울특별시 강북구 한천로 911 (번동)    |02-6946-0100|02-6946-0128|37.63305134|127.0381809|2017|228           |\n|서울소방재난본부 |강서소방서              |서울특별시 강서구 양천로 550 (등촌동)  |02-6981-5000|02-2187-8243|37.55824607|126.860047 |2017|279           |\n|서울소방재난본부 |관악소방서              |서울특별시 관악구 관악로 97 (봉천동)   |02-6981-8200|02-877-4119 |37.47412481|126.9526855|2017|260           |\n+-----------------+------------------------+---------------------------------------+------------+------------+-----------+-----------+----+--------------+\nonly showing top 5 rows\n",
					"output_type": "stream"
				}
			]
		},
		{
			"cell_type": "code",
			"source": "df.write \\\n  .mode(\"overwrite\") \\\n  .option(\"header\", \"true\") \\\n  .partitionBy(\"year\") \\\n  .csv(f's3a://{raw_bucket}/fire_station_raw_partitioned/')\n\nspark.sql(\n    \"\"\"\n    CREATE EXTERNAL TABLE IF NOT EXISTS cloud9_raw.rw_fire_station (\n        `fire_station_name` string, \n        `fire_station_center_name` string, \n        `address` string, \n        `phone` string, \n        `fax` string, \n        `x-axis` double, \n        `y-axis` double, \n        `employee_count` bigint\n    )\n    PARTITIONED BY ( \n        `year` bigint\n    )\n    ROW FORMAT DELIMITED \n        FIELDS TERMINATED BY ',' \n    STORED AS INPUTFORMAT \n        'org.apache.hadoop.mapred.TextInputFormat' \n    OUTPUTFORMAT \n        'org.apache.hadoop.hive.ql.io.HiveIgnoreKeyTextOutputFormat'\n    LOCATION\n        's3://cloud9-batch-raw/fire_station_raw_partitioned'\n    TBLPROPERTIES (\n        'classification'='csv'\n    )\n    \"\"\"\n)\n\nspark.sql(\"MSCK REPAIR TABLE cloud9_raw.rw_fire_station\")",
			"metadata": {
				"trusted": true,
				"tags": []
			},
			"execution_count": 12,
			"outputs": [
				{
					"name": "stdout",
					"text": "DataFrame[]\n",
					"output_type": "stream"
				}
			]
		}
	]
}