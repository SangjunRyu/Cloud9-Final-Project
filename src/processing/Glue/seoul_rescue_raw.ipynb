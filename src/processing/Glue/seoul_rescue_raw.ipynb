{
	"metadata": {
		"kernelspec": {
			"name": "glue_pyspark",
			"display_name": "Glue PySpark",
			"language": "python"
		},
		"language_info": {
			"name": "Python_Glue_Session",
			"mimetype": "text/x-python",
			"codemirror_mode": {
				"name": "python",
				"version": 3
			},
			"pygments_lexer": "python3",
			"file_extension": ".py"
		}
	},
	"nbformat_minor": 4,
	"nbformat": 4,
	"cells": [
		{
			"cell_type": "code",
			"source": "%idle_timeout 60\n%timeout 30\n%glue_version 5.0\n%worker_type G.1X\n%number_of_workers 3\n\nimport sys\nfrom awsglue.transforms import *\nfrom awsglue.utils import getResolvedOptions\nfrom pyspark.context import SparkContext\nfrom awsglue.context import GlueContext\nfrom awsglue.job import Job\nimport pyspark.sql.functions as f\n  \nsc = SparkContext.getOrCreate()\nglueContext = GlueContext(sc)\nspark = glueContext.spark_session\njob = Job(glueContext)",
			"metadata": {
				"trusted": true,
				"tags": []
			},
			"execution_count": 1,
			"outputs": [
				{
					"name": "stdout",
					"text": "Welcome to the Glue Interactive Sessions Kernel\nFor more information on available magic commands, please type %help in any new cell.\n\nPlease view our Getting Started page to access the most up-to-date information on the Interactive Sessions kernel: https://docs.aws.amazon.com/glue/latest/dg/interactive-sessions.html\nInstalled kernel version: 1.0.7 \nCurrent idle_timeout is None minutes.\nidle_timeout has been set to 60 minutes.\nCurrent timeout is None minutes.\ntimeout has been set to 30 minutes.\nSetting Glue version to: 5.0\nPrevious worker type: None\nSetting new worker type to: G.1X\nPrevious number of workers: None\nSetting new number of workers to: 3\nTrying to create a Glue session for the kernel.\nSession Type: glueetl\nWorker Type: G.1X\nNumber of Workers: 3\nIdle Timeout: 60\nTimeout: 30\nSession ID: 37007a84-29d8-4685-9126-2e6e478c061f\nApplying the following default arguments:\n--glue_kernel_version 1.0.7\n--enable-glue-datacatalog true\nWaiting for session 37007a84-29d8-4685-9126-2e6e478c061f to get into ready status...\nSession 37007a84-29d8-4685-9126-2e6e478c061f has been created.\n\n",
					"output_type": "stream"
				}
			]
		},
		{
			"cell_type": "code",
			"source": "raw_bucket = 'cloud9-batch-raw'",
			"metadata": {
				"trusted": true,
				"tags": []
			},
			"execution_count": 23,
			"outputs": [
				{
					"name": "stdout",
					"text": "\n",
					"output_type": "stream"
				}
			]
		},
		{
			"cell_type": "code",
			"source": "df = spark.read \\\n          .option(\"header\", \"true\") \\\n          .csv(f's3://{raw_bucket}/seoul_rescue/')",
			"metadata": {
				"trusted": true
			},
			"execution_count": 24,
			"outputs": [
				{
					"name": "stdout",
					"text": "\n",
					"output_type": "stream"
				}
			]
		},
		{
			"cell_type": "code",
			"source": "# 스키마 확인\n#df.printSchema()",
			"metadata": {
				"trusted": true,
				"tags": []
			},
			"execution_count": 25,
			"outputs": [
				{
					"name": "stdout",
					"text": "root\n |-- msfrtn_resc_reprt_no: string (nullable = true)\n |-- acdnt_cause: string (nullable = true)\n |-- prcs_result_se_nm: string (nullable = true)\n |-- dclr_ymd: string (nullable = true)\n |-- dclr_tm: string (nullable = true)\n |-- dclr_yr: string (nullable = true)\n |-- season_se_nm: string (nullable = true)\n |-- qtr_se: string (nullable = true)\n |-- dclr_mnth: string (nullable = true)\n |-- dclr_day: string (nullable = true)\n |-- dclr_hour: string (nullable = true)\n |-- dclr_min: string (nullable = true)\n |-- daywk: string (nullable = true)\n |-- dsp_ymd: string (nullable = true)\n |-- dsp_tm: string (nullable = true)\n |-- dsp_yr: string (nullable = true)\n |-- dsp_mnth: string (nullable = true)\n |-- dsp_day: string (nullable = true)\n |-- dsp_hour: string (nullable = true)\n |-- dsp_min: string (nullable = true)\n |-- spt_arvl_ymd: string (nullable = true)\n |-- spt_arvl_tm: string (nullable = true)\n |-- spt_arvl_yr: string (nullable = true)\n |-- spt_arvl_mnth: string (nullable = true)\n |-- spt_arvl_day: string (nullable = true)\n |-- spt_arvl_hour: string (nullable = true)\n |-- spt_arvl_min: string (nullable = true)\n |-- resc_cmptn_ymd: string (nullable = true)\n |-- resc_cmptn_tm: string (nullable = true)\n |-- resc_cmptn_yr: string (nullable = true)\n |-- resc_cmptn_mnth: string (nullable = true)\n |-- resc_cmptn_day: string (nullable = true)\n |-- resc_cmptn_hour: string (nullable = true)\n |-- resc_cmptn_min: string (nullable = true)\n |-- hmg_ymd: string (nullable = true)\n |-- hmg_tm: string (nullable = true)\n |-- hmg_yr: string (nullable = true)\n |-- hmg_mnth: string (nullable = true)\n |-- hmg_day: string (nullable = true)\n |-- hmg_hour: string (nullable = true)\n |-- hmg_min: string (nullable = true)\n |-- sido_nm: string (nullable = true)\n |-- sigungu_nm: string (nullable = true)\n |-- emd_nm: string (nullable = true)\n |-- cty_frmvl_se_nm: string (nullable = true)\n |-- emd_se_nm: string (nullable = true)\n |-- gis_x_axis: string (nullable = true)\n |-- gis_y_axis: string (nullable = true)\n |-- spt_frstt_dist: string (nullable = true)\n |-- acdnt_place_nm: string (nullable = true)\n |-- acdnt_place_detail_nm: string (nullable = true)\n |-- acdnt_cause_asort_nm: string (nullable = true)\n |-- frstt_nm: string (nullable = true)\n |-- ward_nm: string (nullable = true)\n |-- lfdau_nm: string (nullable = true)\n |-- time_unit_tmprt: string (nullable = true)\n |-- time_unit_rainqty: string (nullable = true)\n |-- time_unit_ws: string (nullable = true)\n |-- time_unit_wd: string (nullable = true)\n |-- time_unit_humidity: string (nullable = true)\n |-- time_unit_msnf: string (nullable = true)\n |-- time_unit: string (nullable = true)\n",
					"output_type": "stream"
				}
			]
		},
		{
			"cell_type": "code",
			"source": "# 10개 row 데이터 확인\n#df.show(5, False)",
			"metadata": {
				"trusted": true,
				"tags": []
			},
			"execution_count": 8,
			"outputs": []
		},
		{
			"cell_type": "code",
			"source": "spark.conf.set(\"spark.sql.sources.partitionOverwriteMode\", \"dynamic\")\n\ndf = df.filter(df['msfrtn_resc_reprt_no'] != 'msfrtn_resc_reprt_no')\n\ndf.write \\\n  .mode(\"overwrite\") \\\n  .option(\"header\", \"false\") \\\n  .partitionBy(\"dclr_yr\", \"dclr_mnth\", \"dclr_day\") \\\n  .csv(f's3a://{raw_bucket}/seoul_rescue_raw_partitioned/')\n\nspark.sql(\n    \"\"\"\n    CREATE EXTERNAL TABLE IF NOT EXISTS cloud9_raw.rw_seoul_rescue (\n        `msfrtn_resc_reprt_no` string, \n        `acdnt_cause` string, \n        `prcs_result_se_nm` string, \n        `dclr_ymd` string, \n        `dclr_tm` string, \n        `season_se_nm` string, \n        `qtr_se` string, \n        `dclr_hour` string, \n        `dclr_min` string, \n        `daywk` string, \n        `dsp_ymd` string, \n        `dsp_tm` string, \n        `dsp_yr` string, \n        `dsp_mnth` string, \n        `dsp_day` string, \n        `dsp_hour` string, \n        `dsp_min` string, \n        `spt_arvl_ymd` string, \n        `spt_arvl_tm` string, \n        `spt_arvl_yr` string, \n        `spt_arvl_mnth` string, \n        `spt_arvl_day` string, \n        `spt_arvl_hour` string, \n        `spt_arvl_min` string, \n        `resc_cmptn_ymd` string, \n        `resc_cmptn_tm` string, \n        `resc_cmptn_yr` string, \n        `resc_cmptn_mnth` string, \n        `resc_cmptn_day` string, \n        `resc_cmptn_hour` string, \n        `resc_cmptn_min` string, \n        `hmg_ymd` string, \n        `hmg_tm` string, \n        `hmg_yr` string, \n        `hmg_mnth` string, \n        `hmg_day` string, \n        `hmg_hour` string, \n        `hmg_min` string, \n        `sido_nm` string, \n        `sigungu_nm` string, \n        `emd_nm` string, \n        `cty_frmvl_se_nm` string, \n        `emd_se_nm` string, \n        `gis_x_axis` double, \n        `gis_y_axis` double, \n        `spt_frstt_dist` double, \n        `acdnt_place_nm` string, \n        `acdnt_place_detail_nm` string, \n        `acdnt_cause_asort_nm` string, \n        `frstt_nm` string, \n        `ward_nm` string, \n        `lfdau_nm` string, \n        `time_unit_tmprt` string, \n        `time_unit_rainqty` string, \n        `time_unit_ws` string, \n        `time_unit_wd` string, \n        `time_unit_humidity` string, \n        `time_unit_msnf` string, \n        `time_unit` string\n    )\n    PARTITIONED BY ( \n        `dclr_yr` string, \n        `dclr_mnth` string, \n        `dclr_day` string\n    )\n    ROW FORMAT DELIMITED \n        FIELDS TERMINATED BY ',' \n    STORED AS INPUTFORMAT \n        'org.apache.hadoop.mapred.TextInputFormat' \n    OUTPUTFORMAT \n        'org.apache.hadoop.hive.ql.io.HiveIgnoreKeyTextOutputFormat'\n    LOCATION\n        's3://cloud9-batch-raw/seoul_rescue_raw_partitioned/'\n    TBLPROPERTIES (\n        'classification'='csv'\n    )\n    \"\"\"\n)\n\nspark.sql(\"MSCK REPAIR TABLE cloud9_raw.rw_seoul_rescue\")",
			"metadata": {
				"trusted": true,
				"tags": []
			},
			"execution_count": 16,
			"outputs": [
				{
					"name": "stdout",
					"text": "DataFrame[]\n",
					"output_type": "stream"
				}
			]
		},
		{
			"cell_type": "code",
			"source": "",
			"metadata": {},
			"execution_count": null,
			"outputs": []
		}
	]
}