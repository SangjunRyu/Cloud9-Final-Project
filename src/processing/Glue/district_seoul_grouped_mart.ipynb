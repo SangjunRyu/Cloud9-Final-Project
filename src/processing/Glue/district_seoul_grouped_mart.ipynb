{
	"metadata": {
		"kernelspec": {
			"display_name": "Glue PySpark",
			"language": "python",
			"name": "glue_pyspark"
		},
		"language_info": {
			"codemirror_mode": {
				"name": "python",
				"version": 3
			},
			"file_extension": ".py",
			"mimetype": "text/x-python",
			"name": "Python_Glue_Session",
			"pygments_lexer": "python3"
		}
	},
	"nbformat_minor": 4,
	"nbformat": 4,
	"cells": [
		{
			"cell_type": "code",
			"source": "#create glue session\n%idle_timeout 180\n%timeout 60\n%glue_version 5.0\n%worker_type G.1X\n%number_of_workers 2\n\nimport sys\nfrom awsglue.transforms import *\nfrom awsglue.utils import getResolvedOptions\nfrom pyspark.context import SparkContext\nfrom awsglue.context import GlueContext\nfrom awsglue.job import Job\nimport pyspark.sql.functions as F\n  \nsc = SparkContext.getOrCreate()\nglueContext = GlueContext(sc)\nspark = glueContext.spark_session\njob = Job(glueContext)",
			"metadata": {
				"trusted": true,
				"tags": [],
				"vscode": {
					"languageId": "python_glue_session"
				}
			},
			"execution_count": 1,
			"outputs": [
				{
					"name": "stdout",
					"text": "Welcome to the Glue Interactive Sessions Kernel\nFor more information on available magic commands, please type %help in any new cell.\n\nPlease view our Getting Started page to access the most up-to-date information on the Interactive Sessions kernel: https://docs.aws.amazon.com/glue/latest/dg/interactive-sessions.html\nInstalled kernel version: 1.0.7 \nCurrent idle_timeout is None minutes.\nidle_timeout has been set to 180 minutes.\nCurrent timeout is None minutes.\ntimeout has been set to 60 minutes.\nSetting Glue version to: 5.0\nPrevious worker type: None\nSetting new worker type to: G.1X\nPrevious number of workers: None\nSetting new number of workers to: 2\nTrying to create a Glue session for the kernel.\nSession Type: glueetl\nWorker Type: G.1X\nNumber of Workers: 2\nIdle Timeout: 180\nTimeout: 60\nSession ID: 77e1ee85-3134-46ea-9ad2-d8013860cfc9\nApplying the following default arguments:\n--glue_kernel_version 1.0.7\n--enable-glue-datacatalog true\nWaiting for session 77e1ee85-3134-46ea-9ad2-d8013860cfc9 to get into ready status...\nSession 77e1ee85-3134-46ea-9ad2-d8013860cfc9 has been created.\n\n",
					"output_type": "stream"
				}
			]
		},
		{
			"cell_type": "code",
			"source": "#set bucket directory\ntransformed_bucket = 'cloud9-transformed'\nmart_bucket = 'cloud9-mart'",
			"metadata": {
				"trusted": true,
				"tags": [],
				"vscode": {
					"languageId": "python_glue_session"
				}
			},
			"execution_count": 2,
			"outputs": [
				{
					"name": "stdout",
					"text": "\n",
					"output_type": "stream"
				}
			]
		},
		{
			"cell_type": "code",
			"source": "#load schema from transformed_bucket data catalog\ndf_district = glueContext.create_data_frame_from_catalog(database = \"cloud9_transformed\", table_name = \"tr_district_seoul\")",
			"metadata": {
				"trusted": true,
				"tags": [],
				"vscode": {
					"languageId": "python_glue_session"
				}
			},
			"execution_count": 9,
			"outputs": [
				{
					"name": "stdout",
					"text": "\n",
					"output_type": "stream"
				}
			]
		},
		{
			"cell_type": "code",
			"source": "# list loaded schema\n#df_district.printSchema()",
			"metadata": {
				"trusted": true,
				"tags": [],
				"vscode": {
					"languageId": "python_glue_session"
				}
			},
			"execution_count": 7,
			"outputs": [
				{
					"name": "stdout",
					"text": "root\n |-- district_name: string (nullable = true)\n |-- dong_name: string (nullable = true)\n |-- population: integer (nullable = true)\n |-- area: double (nullable = true)\n |-- density: integer (nullable = true)\n |-- year: integer (nullable = true)\n",
					"output_type": "stream"
				}
			]
		},
		{
			"cell_type": "code",
			"source": "#df_district.show()",
			"metadata": {
				"trusted": true,
				"tags": []
			},
			"execution_count": 10,
			"outputs": [
				{
					"name": "stdout",
					"text": "+-------------+---------+----------+----+-------+----+\n|district_name|dong_name|population|area|density|year|\n+-------------+---------+----------+----+-------+----+\n|       강남구|  개포1동|     11907|1.27|   9376|2023|\n|       강남구|  개포2동|     41804|2.51|  16655|2023|\n|       강남구|  개포3동|     16894|1.24|  13624|2023|\n|       강남구|  개포4동|     23384|1.49|  15694|2023|\n|       강남구|  논현1동|     21759|1.25|  17407|2023|\n|       강남구|  논현2동|     20774|1.47|  14132|2023|\n|       강남구|  대치1동|     23934|0.79|  30296|2023|\n|       강남구|  대치2동|     38417| 2.0|  19209|2023|\n|       강남구|  대치4동|     18929|0.73|  25930|2023|\n|       강남구|  도곡1동|     20701|1.02|  20295|2023|\n|       강남구|  도곡2동|     32738|1.02|  32096|2023|\n|       강남구|  삼성1동|     12384|1.94|   6384|2023|\n|       강남구|  삼성2동|     30888|1.24|  24910|2023|\n|       강남구|   세곡동|     45724|6.36|   7189|2023|\n|       강남구|   수서동|     14090|1.43|   9853|2023|\n|       강남구|   신사동|     15681|1.89|   8297|2023|\n|       강남구| 압구정동|     25755|2.53|  10180|2023|\n|       강남구|  역삼1동|     35326|2.35|  15032|2023|\n|       강남구|  역삼2동|     36748|1.15|  31955|2023|\n|       강남구|  일원1동|     14711|0.92|  15990|2023|\n+-------------+---------+----------+----+-------+----+\nonly showing top 20 rows\n",
					"output_type": "stream"
				}
			]
		},
		{
			"cell_type": "code",
			"source": "from pyspark.sql import functions as F\nfrom pyspark.sql.types import StringType, IntegerType, DoubleType\n\ndf_district_grouped = df_district.groupby(\"district_name\", \"year\") \\\n    .sum(\"population\", \"area\", \"density\") \\\n    .withColumn(\"district_name\", F.col(\"district_name\").cast(StringType())) \\\n    .withColumn(\"year\", F.col(\"year\").cast(StringType())) \\\n    .withColumn(\"sum(population)\", F.col(\"sum(population)\").cast(IntegerType())) \\\n    .withColumn(\"sum(area)\", F.round(F.col(\"sum(area)\"),1).cast(DoubleType())) \\\n    .withColumn(\"sum(density)\", F.col(\"sum(density)\").cast(IntegerType())) \\\n    .drop(\"sum(density)\")\n\ndf_mart = df_district_grouped\n#df_mart.printSchema()\n#df_mart.show()",
			"metadata": {
				"trusted": true,
				"tags": []
			},
			"execution_count": 42,
			"outputs": [
				{
					"name": "stdout",
					"text": "\n",
					"output_type": "stream"
				}
			]
		},
		{
			"cell_type": "code",
			"source": "# write mart data to S3\ndf_mart.write \\\n              .mode(\"overwrite\") \\\n              .format('parquet') \\\n              .partitionBy(\"year\") \\\n              .save(f's3a://{mart_bucket}/district_seoul_grouped_mart/')\n\n# create table if not exists\nspark.sql(\n    \"\"\"\n    CREATE EXTERNAL TABLE IF NOT EXISTS cloud9_mart.mt_district_seoul_grouped (\n        `district_name` STRING,\n        `sum(population)` INT, \n        `sum(area)` DOUBLE\n    )\n    PARTITIONED BY (`year` STRING\n    )\n    ROW FORMAT SERDE \n        'org.apache.hadoop.hive.ql.io.parquet.serde.ParquetHiveSerDe' \n    STORED AS INPUTFORMAT \n        'org.apache.hadoop.hive.ql.io.parquet.MapredParquetInputFormat' \n    OUTPUTFORMAT \n        'org.apache.hadoop.hive.ql.io.parquet.MapredParquetOutputFormat'\n    LOCATION\n        's3://cloud9-mart/district_seoul_grouped_mart'\n    TBLPROPERTIES (\n        'classification' = 'parquet'\n    )\n    \"\"\"\n)\n\n# Load partitions\nspark.sql(\"MSCK REPAIR TABLE cloud9_mart.mt_district_seoul_grouped\")",
			"metadata": {
				"trusted": true,
				"tags": [],
				"vscode": {
					"languageId": "python_glue_session"
				}
			},
			"execution_count": 43,
			"outputs": [
				{
					"name": "stdout",
					"text": "DataFrame[]\n",
					"output_type": "stream"
				}
			]
		}
	]
}