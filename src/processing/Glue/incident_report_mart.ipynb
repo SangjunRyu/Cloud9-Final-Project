{
	"metadata": {
		"kernelspec": {
			"name": "glue_pyspark",
			"display_name": "Glue PySpark",
			"language": "python"
		},
		"language_info": {
			"name": "Python_Glue_Session",
			"mimetype": "text/x-python",
			"codemirror_mode": {
				"name": "python",
				"version": 3
			},
			"pygments_lexer": "python3",
			"file_extension": ".py"
		}
	},
	"nbformat_minor": 4,
	"nbformat": 4,
	"cells": [
		{
			"cell_type": "code",
			"source": "#create glue session\n%idle_timeout 30\n%timeout 30\n%glue_version 5.0\n%worker_type G.1X\n%number_of_workers 2\n%additional_python_modules pyproj\n\nimport sys\nfrom awsglue.transforms import *\nfrom awsglue.utils import getResolvedOptions\nfrom pyspark.context import SparkContext\nfrom awsglue.context import GlueContext\nfrom awsglue.job import Job\nimport pyspark.sql.functions as f\n  \nsc = SparkContext.getOrCreate()\nglueContext = GlueContext(sc)\nspark = glueContext.spark_session\njob = Job(glueContext)",
			"metadata": {
				"trusted": true,
				"tags": []
			},
			"execution_count": 1,
			"outputs": [
				{
					"name": "stdout",
					"text": "Welcome to the Glue Interactive Sessions Kernel\nFor more information on available magic commands, please type %help in any new cell.\n\nPlease view our Getting Started page to access the most up-to-date information on the Interactive Sessions kernel: https://docs.aws.amazon.com/glue/latest/dg/interactive-sessions.html\nInstalled kernel version: 1.0.7 \nCurrent idle_timeout is None minutes.\nidle_timeout has been set to 60 minutes.\nCurrent timeout is None minutes.\ntimeout has been set to 60 minutes.\nSetting Glue version to: 5.0\nPrevious worker type: None\nSetting new worker type to: G.1X\nPrevious number of workers: None\nSetting new number of workers to: 2\nAdditional python modules to be included:\npyproj\nTrying to create a Glue session for the kernel.\nSession Type: glueetl\nWorker Type: G.1X\nNumber of Workers: 2\nIdle Timeout: 60\nTimeout: 60\nSession ID: 53ede21f-0757-4483-a4ec-1110a4fa05d4\nApplying the following default arguments:\n--glue_kernel_version 1.0.7\n--enable-glue-datacatalog true\n--additional-python-modules pyproj\nWaiting for session 53ede21f-0757-4483-a4ec-1110a4fa05d4 to get into ready status...\nSession 53ede21f-0757-4483-a4ec-1110a4fa05d4 has been created.\n\n",
					"output_type": "stream"
				}
			]
		},
		{
			"cell_type": "code",
			"source": "#set bucket directory\ntransformed_bucket = 'cloud9-transformed'\nmart_bucket = 'cloud9-mart'",
			"metadata": {
				"trusted": true,
				"tags": []
			},
			"execution_count": 2,
			"outputs": [
				{
					"name": "stdout",
					"text": "\n",
					"output_type": "stream"
				}
			]
		},
		{
			"cell_type": "code",
			"source": "#load schema from raw data catalog\ndf = glueContext.create_data_frame_from_catalog(database = \"cloud9_transformed\", table_name = \"tr_seoul_rescue\")\n\n#load schema from raw data catalog\ndf_district = glueContext.create_data_frame_from_catalog(database = \"cloud9_transformed\", table_name = \"tr_district_seoul\")",
			"metadata": {
				"trusted": true,
				"tags": []
			},
			"execution_count": 3,
			"outputs": [
				{
					"name": "stdout",
					"text": "/usr/lib/spark/python/lib/pyspark.zip/pyspark/sql/dataframe.py:147: UserWarning: DataFrame constructor is internal. Do not directly use it.\n",
					"output_type": "stream"
				}
			]
		},
		{
			"cell_type": "code",
			"source": "# list loaded schema\n#df.printSchema()\n\n#print sample rows\n#df.show(3)",
			"metadata": {
				"trusted": true,
				"tags": []
			},
			"execution_count": 8,
			"outputs": []
		},
		{
			"cell_type": "code",
			"source": "#Transform columns, data types\nfrom pyspark.sql.functions import *\nfrom pyspark.sql.types import *\n\ndf_transformed = df \\\n    .withColumnRenamed(\"msfrtn_resc_reprt_no\", \"incident_report_id\") \\\n    .withColumnRenamed(\"acdnt_cause\", \"cause\") \\\n    .withColumnRenamed(\"prcs_result_se_nm\", \"result\") \\\n    .withColumnRenamed(\"sigungu_nm\", \"district_name\") \\\n    .withColumnRenamed(\"emd_nm\", \"dong_name\") \\\n    .withColumnRenamed(\"cty_frmvl_se_nm\", \"city_rural_category\") \\\n    .withColumn(\"longitude\", col(\"gis_x_axis\").cast(DoubleType())) \\\n    .withColumn(\"latitude\", col(\"gis_y_axis\").cast(DoubleType())) \\\n    .withColumnRenamed(\"acdnt_place_nm\", \"place_name\") \\\n    .withColumnRenamed(\"acdnt_place_detail_nm\", \"place_detail\") \\\n    .withColumnRenamed(\"acdnt_cause_asort_nm\", \"cause_subcategory\") \\\n    .withColumnRenamed(\"frstt_nm\", \"fire_station_name\") \\\n    .withColumnRenamed(\"ward_nm\", \"fire_station_center_name\") \\\n    .withColumnRenamed(\"dclr_yr\", \"report_yr\") \\\n    .withColumnRenamed(\"dclr_mnth\", \"report_mnth\") \\\n    .withColumnRenamed(\"dclr_day\", \"report_day\") \\\n    .select(\n        \"incident_report_id\", \n        \"cause\", \n        \"result\", \n        \"district_name\", \n        \"dong_name\",\n        \"city_rural_category\",\n        \"latitude\", \n        \"longitude\", \n        \"place_name\", \n        \"place_detail\", \n        \"cause_subcategory\",\n        \"fire_station_name\",\n        \"fire_station_center_name\", \n        \"report_yr\", \n        \"report_mnth\",\n        \"report_day\"\n    )\n\n# 결과 확인\n#df_transformed.printSchema()\n#df_transformed.show(3)",
			"metadata": {
				"trusted": true,
				"tags": []
			},
			"execution_count": 5,
			"outputs": [
				{
					"name": "stdout",
					"text": "root\n |-- incident_report_id: string (nullable = true)\n |-- cause: string (nullable = true)\n |-- result: string (nullable = true)\n |-- district_name: string (nullable = true)\n |-- dong_name: string (nullable = true)\n |-- city_rural_category: string (nullable = true)\n |-- latitude: double (nullable = true)\n |-- longitude: double (nullable = true)\n |-- place_name: string (nullable = true)\n |-- place_detail: string (nullable = true)\n |-- cause_subcategory: string (nullable = true)\n |-- fire_station_name: string (nullable = true)\n |-- fire_station_center_name: string (nullable = true)\n |-- report_yr: integer (nullable = true)\n |-- report_mnth: integer (nullable = true)\n |-- report_day: integer (nullable = true)\n",
					"output_type": "stream"
				}
			]
		},
		{
			"cell_type": "code",
			"source": "# SQL 쿼리 작성\ndf_transformed.createOrReplaceTempView(\"incident_tmp\")\ndf_district.createOrReplaceTempView(\"district_tmp\")\n\nquery = \"\"\"\nSELECT \n    i.*\nFROM \n    incident_tmp i\nINNER JOIN \n    (SELECT DISTINCT district_name FROM district_tmp) d\nON \n    i.district_name = d.district_name\n\"\"\"\n\n# SQL 실행 및 결과 DataFrame 생성\ndf_joined = spark.sql(query)\n\n# 결과 확인\n#df_joined.show()",
			"metadata": {
				"trusted": true,
				"tags": []
			},
			"execution_count": 6,
			"outputs": [
				{
					"name": "stdout",
					"text": "+------------------+------------+--------+-------------+---------+-------------------+-----------+-----------+-------------+---------------+-----------------+-----------------+------------------------+---------+-----------+----------+\n|incident_report_id|       cause|  result|district_name|dong_name|city_rural_category|   latitude|  longitude|   place_name|   place_detail|cause_subcategory|fire_station_name|fire_station_center_name|report_yr|report_mnth|report_day|\n+------------------+------------+--------+-------------+---------+-------------------+-----------+-----------+-------------+---------------+-----------------+-----------------+------------------------+---------+-----------+----------+\n| 20181117507S01524|        기타|안전조치|       강서구|   등촌동|               도시|550845.0514|187745.1455|     공동주택| 주상복합아파트|             기타|       강서소방서|              현장대응단|     2018|          5|        17|\n| 20181113509S01275|    안전조치|안전조치|       마포구|   대흥동|               도시|  550592.21|  195244.81|     업무시설|       오피스텔|  소방시설 오작동|       마포소방서|              현장대응단|     2018|          5|        17|\n| 20181115509S01575|잠금장치개방|안전조치|       서초구|   방배동|               도시|543562.9979|  198659.44|     공동주택|         아파트|          문 개방|       서초소방서|              현장대응단|     2018|          5|        17|\n| 20181116103S00415|        기타|안전조치|       관악구|   신림동|               도시|  542923.73|   193635.1|     공동주택|연립·다세대주택|             기타|       관악소방서|         신림119안전센터|     2018|          5|        17|\n| 20181107105S00385|        기타|안전조치|       중랑구|     묵동|               도시|556608.1167| 206494.386|교육·연구시설|       초등학교|             기타|     동대문소방서|         휘경119안전센터|     2018|          5|        17|\n| 20181116104S00413|        기타|안전조치|       관악구|   신림동|               도시|540808.6331|193159.6107|         기타|           기타|             기타|       관악소방서|         난곡119안전센터|     2018|          5|        17|\n| 20181118105S00410|      승강기|인명구조|       강동구|     길동|               도시|  548502.66|  212286.49|     판매시설|   대형할인매장|     승객용승강기|       강동소방서|         길동119안전센터|     2018|          5|        17|\n| 20181115105S00634|    안전조치|안전조치|       서초구|   서초동|               도시|  543649.36|  200966.96|         기타|           기타|  소방시설 오작동|       서초소방서|         잠원119안전센터|     2018|          5|        17|\n| 20181115103S00462|        기타|안전조치|       서초구|   양재동|               도시|   542712.5|  203161.23|         기타|           기타|             기타|       서초소방서|         양재119안전센터|     2018|          5|        17|\n| 20181106508S01047|        화재|인명구조|       용산구|   한남동|               도시|  548120.31|  199956.28|     공동주택|  기타 공동주택|             실화|       용산소방서|              현장대응단|     2018|          5|        17|\n| 20181106508S01057|        화재|안전조치|       용산구|   한남동|               도시|  548120.31|  199956.28|     공동주택|  기타 공동주택|         기타화재|       용산소방서|              현장대응단|     2018|          5|        17|\n| 20181113104S00682|        기타|안전조치|       마포구|   동교동|               도시|  550774.58|  193980.32|     업무시설|  기타 업무시설|             기타|       마포소방서|         서교119안전센터|     2018|          5|        17|\n| 20181116509S01310|    안전조치|안전조치|       관악구|   봉천동|               도시|  541661.24|  196749.92|     공동주택|연립·다세대주택|  소방시설 오작동|       관악소방서|              현장대응단|     2018|          5|        17|\n| 20181103109S00458|        기타|안전조치|     동대문구|   제기동|               도시|  553341.27|  203418.61|     판매시설|  재래 전통시장|             기타|       종로소방서|         숭인119안전센터|     2018|          5|        17|\n| 20181107102S00419|        화재|안전조치|     동대문구|   제기동|               도시|  553341.27|  203418.61|     판매시설|  재래 전통시장|         기타화재|     동대문소방서|       청량리119안전센터|     2018|          5|        17|\n| 20181107103S00403|        화재|안전조치|     동대문구|   제기동|               도시|  553341.27|  203418.61|         기타|           기타|         기타화재|     동대문소방서|         전농119안전센터|     2018|          5|        17|\n| 20181107104S00416|    안전조치|안전조치|     동대문구|   제기동|               도시|  553341.27|  203418.61|     판매시설|  재래 전통시장|    기타 안전조치|     동대문소방서|         용두119안전센터|     2018|          5|        17|\n| 20181107508S01291|        기타|안전조치|     동대문구|   제기동|               도시|  553341.27|  203418.61|         기타|           기타|             기타|     동대문소방서|              현장대응단|     2018|          5|        17|\n| 20181107508S01295|    안전조치|안전조치|     동대문구|   제기동|               도시|  553341.27|  203418.61|     판매시설|  재래 전통시장|  소방시설 오작동|     동대문소방서|              현장대응단|     2018|          5|        17|\n| 20181109507S01320|        화재|안전조치|     동대문구|   제기동|               도시|  553341.27|  203418.61|     공동주택|연립·다세대주택|         기타화재|       성북소방서|              현장대응단|     2018|          5|        17|\n+------------------+------------+--------+-------------+---------+-------------------+-----------+-----------+-------------+---------------+-----------------+-----------------+------------------------+---------+-----------+----------+\nonly showing top 20 rows\n",
					"output_type": "stream"
				}
			]
		},
		{
			"cell_type": "code",
			"source": "from pyspark.sql.functions import udf\nfrom pyproj import Transformer\n\n# 좌표 변환기 설정 (EPSG:5186 -> EPSG:4326)\ntransformer = Transformer.from_crs(\"EPSG:5186\", \"EPSG:4326\")\n\n# 좌표 변환 함수 정의\ndef transform_coordinates(x, y):\n    if x is not None and y is not None:\n        lat, lon = transformer.transform(x, y)\n        return lat, lon\n    else:\n        return None, None\n\n# UDF로 등록\ntransform_coordinates_udf = udf(\n    lambda x, y: transform_coordinates(x, y),\n    StructType([\n        StructField(\"latitude\", DoubleType()),\n        StructField(\"longitude\", DoubleType())\n    ])\n)\n\n# UDF 적용\ndf_joined = df_joined \\\n    .withColumn(\n        \"coordinates\",\n        transform_coordinates_udf(col(\"latitude\"), col(\"longitude\"))\n    ) \\\n    .withColumn(\"latitude\", col(\"coordinates\").getField(\"latitude\")) \\\n    .withColumn(\"longitude\", col(\"coordinates\").getField(\"longitude\")) \\\n    .drop(\"coordinates\")\n\n# 결과 확인\n#df_joined.show(3)",
			"metadata": {
				"trusted": true,
				"tags": []
			},
			"execution_count": 7,
			"outputs": [
				{
					"name": "stdout",
					"text": "+------------------+------------+--------+-------------+---------+-------------------+------------------+------------------+----------+--------------+-----------------+-----------------+------------------------+---------+-----------+----------+\n|incident_report_id|       cause|  result|district_name|dong_name|city_rural_category|          latitude|         longitude|place_name|  place_detail|cause_subcategory|fire_station_name|fire_station_center_name|report_yr|report_mnth|report_day|\n+------------------+------------+--------+-------------+---------+-------------------+------------------+------------------+----------+--------------+-----------------+-----------------+------------------------+---------+-----------+----------+\n| 20181117507S01524|        기타|안전조치|       강서구|   등촌동|               도시|  37.5570504106502|126.86130475937877|  공동주택|주상복합아파트|             기타|       강서소방서|              현장대응단|     2018|          5|        17|\n| 20181113509S01275|    안전조치|안전조치|       마포구|   대흥동|               도시| 37.55484151297168| 126.9461843552476|  업무시설|      오피스텔|  소방시설 오작동|       마포소방서|              현장대응단|     2018|          5|        17|\n| 20181115509S01575|잠금장치개방|안전조치|       서초구|   방배동|               도시|37.491519422230375|126.98484137196505|  공동주택|        아파트|          문 개방|       서초소방서|              현장대응단|     2018|          5|        17|\n+------------------+------------+--------+-------------+---------+-------------------+------------------+------------------+----------+--------------+-----------------+-----------------+------------------------+---------+-----------+----------+\nonly showing top 3 rows\n",
					"output_type": "stream"
				}
			]
		},
		{
			"cell_type": "code",
			"source": "spark.conf.set(\"spark.sql.sources.partitionOverwriteMode\", \"dynamic\")\n\n#write transformed data to S3\ndf_joined.write \\\n              .mode(\"overwrite\") \\\n              .format('parquet') \\\n              .partitionBy(\"report_yr\", \"report_mnth\", \"report_day\") \\\n              .save(f's3a://{mart_bucket}/incident_report_mart/')\n\n#create tr_incident_report table if not exists\nspark.sql(\n    \"\"\"\n    CREATE EXTERNAL TABLE IF NOT EXISTS cloud9_mart.mt_incident_report (\n        `incident_report_id` STRING, \n        `cause` STRING, \n        `result` STRING, \n        `district_name` STRING, \n        `dong_name` STRING, \n        `city_rural_category` STRING, \n        `latitude` DOUBLE, \n        `longitude` DOUBLE, \n        `place_name` STRING, \n        `place_detail` STRING, \n        `cause_subcategory` STRING,\n        `fire_station_name` STRING,\n        `fire_station_center_name` STRING\n    )\n    PARTITIONED BY ( \n        `report_yr` STRING, \n        `report_mnth` STRING, \n        `report_day` STRING\n    )\n    STORED AS PARQUET\n    LOCATION \n        's3://cloud9-mart/incident_report_mart/'\n    TBLPROPERTIES (\n        'classification' = 'parquet'\n    )\n    \"\"\"\n)\n\n# Add yesterday's partition\nfrom datetime import datetime, timedelta\n\n# 어제 날짜를 KST 기준으로 계산\nyesterday_kst = datetime.utcnow() + timedelta(hours=9) - timedelta(days=1)\n\n# 연도, 월, 일을 추출 (한 자리 수일 경우 앞의 0 제거)\nreport_yr = yesterday_kst.strftime('%Y')  # 연도는 그대로\nreport_mnth = yesterday_kst.strftime('%m').lstrip('0')  # 0 제거\nreport_day = yesterday_kst.strftime('%d').lstrip('0')   # 0 제거\n\n# Spark SQL로 파티션 추가\nspark.sql(\n    f\"\"\"\n    ALTER TABLE cloud9_mart.mt_incident_report \n    ADD IF NOT EXISTS \n    PARTITION (report_yr='{report_yr}', report_mnth='{report_mnth}', report_day='{report_day}') \n        LOCATION 's3a://{mart_bucket}/incident_report_mart/report_yr={report_yr}/report_mnth={report_mnth}/report_day={report_day}/'\n    \"\"\"\n)",
			"metadata": {
				"trusted": true,
				"tags": []
			},
			"execution_count": 8,
			"outputs": [
				{
					"name": "stdout",
					"text": "DataFrame[]\n",
					"output_type": "stream"
				}
			]
		}
	]
}